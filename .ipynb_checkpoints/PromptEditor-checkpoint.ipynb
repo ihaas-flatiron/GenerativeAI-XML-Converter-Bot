{
 "cells": [
  {
   "cell_type": "code",
   "execution_count": 1,
   "metadata": {},
   "outputs": [],
   "source": [
    "import openai\n",
    "import os\n",
    "\n",
    "from dotenv import load_dotenv, find_dotenv\n",
    "_ = load_dotenv(find_dotenv())\n",
    "\n",
    "openai.api_key  = os.getenv('OPENAI_API_KEY')"
   ]
  },
  {
   "cell_type": "code",
   "execution_count": 2,
   "metadata": {},
   "outputs": [],
   "source": [
    "def get_completion(prompt, model=\"gpt-3.5-turbo\", temperature=0): \n",
    "    messages = [{\"role\": \"user\", \"content\": prompt}]\n",
    "    response = openai.ChatCompletion.create(\n",
    "        model=model,\n",
    "        messages=messages,\n",
    "        temperature=temperature, \n",
    "    )\n",
    "    return response.choices[0].message[\"content\"]"
   ]
  },
  {
   "cell_type": "code",
   "execution_count": 3,
   "metadata": {
    "height": 234,
    "tags": []
   },
   "outputs": [
    {
     "name": "stdout",
     "output_type": "stream",
     "text": [
      "You are Artificial Ian, an automated service to collect orders for a burger restaurant. You first greet the customer and introduce yourself, then collect the order, and then asks if it's for dine-in or takeout. You wait to collect the entire order, then summarize it and check for a final time if the customer wants to add anything else. If it's for takeout, you ask for a pickup time. Finally, you collect the payment. Make sure to clarify all options, extras, and sizes to uniquely identify the item from the menu. You respond in a short, very conversational friendly style. The menu includes classic burger 8.95, cheeseburger 9.95, bacon burger 10.95, veggie burger 9.95, fries 4.50, onion rings 5.50, chicken tenders 7.95. Extras: extra cheese 1.50, bacon 2.00, avocado 2.50, mushrooms 1.50, jalapenos 1.00. Drinks: coke 3.00, 2.00, 1.00, sprite 3.00, 2.00, 1.00, bottled water 5.00.\n"
     ]
    }
   ],
   "source": [
    "# rewrite prompt to be for a burger restaurant\n",
    "\n",
    "data = \"\"\"You are Artificial Ian, an automated service to collect orders for a pizza restaurant. \\\n",
    "You first greet the customer and introduce yourself, then collect the order, \\\n",
    "and then asks if it's a pickup or delivery. \\\n",
    "You wait to collect the entire order, then summarize it and check for a final \\\n",
    "time if the customer wants to add anything else. \\\n",
    "If it's a delivery, you ask for an address. \\\n",
    "Finally you collect the payment.\\\n",
    "Make sure to clarify all options, extras and sizes to uniquely \\\n",
    "identify the item from the menu.\\\n",
    "You respond in a short, very conversational friendly style. \\\n",
    "The menu includes \\\n",
    "pepperoni pizza  12.95, 10.00, 7.00 \\\n",
    "cheese pizza   10.95, 9.25, 6.50 \\\n",
    "eggplant pizza   11.95, 9.75, 6.75 \\\n",
    "fries 4.50, 3.50 \\\n",
    "greek salad 7.25 \\\n",
    "Toppings: \\\n",
    "extra cheese 2.00, \\\n",
    "mushrooms 1.50 \\\n",
    "sausage 3.00 \\\n",
    "canadian bacon 3.50 \\\n",
    "AI sauce 1.50 \\\n",
    "peppers 1.00 \\\n",
    "Drinks: \\\n",
    "coke 3.00, 2.00, 1.00 \\\n",
    "sprite 3.00, 2.00, 1.00 \\\n",
    "bottled water 5.00 \\\n",
    "\"\"\"\n",
    "\n",
    "prompt = f\"\"\"\n",
    "Rewrite the following python prompt from a pizza restaurant order \\\n",
    "and menu to a prompt about a burger restaurant: {data}\n",
    "\"\"\"\n",
    "response = get_completion(prompt)\n",
    "print(response)"
   ]
  },
  {
   "cell_type": "code",
   "execution_count": 6,
   "metadata": {},
   "outputs": [
    {
     "name": "stdout",
     "output_type": "stream",
     "text": [
      "Welcome to Burger Bites! I'm your friendly automated service, Happy Hannah. What can I get for you today? We've got some delicious options on our menu, including our classic cheeseburger for $8.95, our mouth-watering bacon burger for $10.50, and our veggie burger for $9.75. Don't forget to add some crispy fries for $4.50 or a refreshing Greek salad for $7.25. \n",
      "\n",
      "We've also got some tasty toppings to choose from, like extra cheese for $2.00, sautéed mushrooms for $1.50, juicy sausage for $3.00, savory Canadian bacon for $3.50, and our signature AI sauce for $1.50. And to wash it all down, we've got ice-cold Coke and Sprite in three sizes for $3.00, $2.00, and $1.00, as well as bottled water for $5.00.\n",
      "\n",
      "Is there anything else I can get for you today? And are you picking up or would you like us to deliver to your address? Let me know and I'll make sure your order is perfect.\n"
     ]
    }
   ],
   "source": [
    "# rewrite prompt to change the tone to Mark Walburgh Boston accent\n",
    "\n",
    "prompt = f\"\"\"\n",
    "Rewrite the following python prompt from a pizza restaurant order \\\n",
    "and menu to a prompt about a burger restaurant. \\\n",
    "Change the tone to be upbeat: {data}\n",
    "\"\"\"\n",
    "response = get_completion(prompt)\n",
    "print(response)"
   ]
  },
  {
   "cell_type": "code",
   "execution_count": null,
   "metadata": {},
   "outputs": [],
   "source": []
  }
 ],
 "metadata": {
  "kernelspec": {
   "display_name": "Python (learn-env)",
   "language": "python",
   "name": "learn-env"
  },
  "language_info": {
   "codemirror_mode": {
    "name": "ipython",
    "version": 3
   },
   "file_extension": ".py",
   "mimetype": "text/x-python",
   "name": "python",
   "nbconvert_exporter": "python",
   "pygments_lexer": "ipython3",
   "version": "3.8.5"
  }
 },
 "nbformat": 4,
 "nbformat_minor": 4
}
